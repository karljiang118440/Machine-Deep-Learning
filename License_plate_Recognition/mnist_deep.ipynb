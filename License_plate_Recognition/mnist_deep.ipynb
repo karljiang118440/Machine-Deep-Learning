{
 "cells": [
  {
   "cell_type": "code",
   "execution_count": 1,
   "metadata": {},
   "outputs": [
    {
     "ename": "ModuleNotFoundError",
     "evalue": "No module named '_future_'",
     "output_type": "error",
     "traceback": [
      "\u001b[1;31m---------------------------------------------------------------------------\u001b[0m",
      "\u001b[1;31mModuleNotFoundError\u001b[0m                       Traceback (most recent call last)",
      "\u001b[1;32m<ipython-input-1-1880ee1c41f8>\u001b[0m in \u001b[0;36m<module>\u001b[1;34m()\u001b[0m\n\u001b[1;32m----> 1\u001b[1;33m \u001b[1;32mfrom\u001b[0m \u001b[0m_future_\u001b[0m \u001b[1;32mimport\u001b[0m \u001b[0mabsolute_import\u001b[0m\u001b[1;33m\u001b[0m\u001b[0m\n\u001b[0m\u001b[0;32m      2\u001b[0m \u001b[1;32mfrom\u001b[0m \u001b[0m_future_\u001b[0m \u001b[1;32mimport\u001b[0m \u001b[0mdivision\u001b[0m\u001b[1;33m\u001b[0m\u001b[0m\n\u001b[0;32m      3\u001b[0m \u001b[1;32mfrom\u001b[0m \u001b[0m_future_\u001b[0m \u001b[1;32mimport\u001b[0m \u001b[0mprint_function\u001b[0m\u001b[1;33m\u001b[0m\u001b[0m\n",
      "\u001b[1;31mModuleNotFoundError\u001b[0m: No module named '_future_'"
     ]
    }
   ],
   "source": [
    "from _future_ import absolute_import\n",
    "from _future_ import division\n",
    "from _future_ import print_function"
   ]
  },
  {
   "cell_type": "code",
   "execution_count": 4,
   "metadata": {},
   "outputs": [],
   "source": [
    "import numpy as np\n",
    "import sys\n",
    "import cv2\n",
    "import os\n",
    "import os.path\n",
    "import tensorflow as tf\n",
    "from tensorflow.examples.tutoriess.mnist import input_data"
   ]
  },
  {
   "cell_type": "code",
   "execution_count": 3,
   "metadata": {},
   "outputs": [],
   "source": [
    "labels=np.array(\n",
    "  [0,7,5,5,\n",
    "  1,2,3,0,7,4,6,8,\n",
    "  5,2,3,0,6,\n",
    "  6,4,1,9,3,7,9,6, # \n",
    "  1,3,7,1,4,5,\n",
    "  5,0,4,\n",
    "  2,0,1,7,0,7,0,8,\n",
    "  1,4,3,2,0,5,2,7, #\n",
    "  1,8,8,1,9,2,5,0,0,\n",
    "  5,1,8,0,6,8,\n",
    "  2,6,6,7,8,6,6,4],\n",
    "  np.uint8)"
   ]
  },
  {
   "cell_type": "code",
   "execution_count": null,
   "metadata": {},
   "outputs": [],
   "source": [
    "def load_digits_arr_from_folder():\n",
    "    digits_arr=np.array([])\n",
    "    for filename in os.listdir(DIGITS_ARR_PATH):\n",
    "        img=cv2.imread(os.path.join(DIGITS_ARR_PATH,filename),0)\n",
    "        fn=os.path.splitetext(filename)[0]\n",
    "        if img is not None:\n",
    "            digit=np.concatenate([(img[i])])"
   ]
  }
 ],
 "metadata": {
  "kernelspec": {
   "display_name": "Python 3",
   "language": "python",
   "name": "python3"
  },
  "language_info": {
   "codemirror_mode": {
    "name": "ipython",
    "version": 3
   },
   "file_extension": ".py",
   "mimetype": "text/x-python",
   "name": "python",
   "nbconvert_exporter": "python",
   "pygments_lexer": "ipython3",
   "version": "3.6.3"
  }
 },
 "nbformat": 4,
 "nbformat_minor": 2
}
